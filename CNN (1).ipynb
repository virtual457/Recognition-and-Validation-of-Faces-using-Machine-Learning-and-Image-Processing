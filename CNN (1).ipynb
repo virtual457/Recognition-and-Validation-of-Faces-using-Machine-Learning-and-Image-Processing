{
  "nbformat": 4,
  "nbformat_minor": 0,
  "metadata": {
    "colab": {
      "name": "CNN.ipynb",
      "version": "0.3.2",
      "provenance": [],
      "collapsed_sections": []
    },
    "language_info": {
      "codemirror_mode": {
        "name": "ipython",
        "version": 3
      },
      "file_extension": ".py",
      "mimetype": "text/x-python",
      "name": "python",
      "nbconvert_exporter": "python",
      "pygments_lexer": "ipython3",
      "version": "3.7.1"
    },
    "kernelspec": {
      "name": "python3",
      "display_name": "Python 3"
    },
    "accelerator": "GPU"
  },
  "cells": [
    {
      "cell_type": "code",
      "metadata": {
        "id": "MEIH6PrKCPVD",
        "colab_type": "code",
        "outputId": "b6a4042a-77c2-4eba-8ddd-1142dde83f75",
        "colab": {
          "base_uri": "https://localhost:8080/",
          "height": 34
        }
      },
      "source": [
        "#Run this cell to mount your Google Drive.\n",
        "from google.colab import drive\n",
        "drive.mount('/content/drive')"
      ],
      "execution_count": 0,
      "outputs": [
        {
          "output_type": "stream",
          "text": [
            "Drive already mounted at /content/drive; to attempt to forcibly remount, call drive.mount(\"/content/drive\", force_remount=True).\n"
          ],
          "name": "stdout"
        }
      ]
    },
    {
      "cell_type": "code",
      "metadata": {
        "colab_type": "code",
        "id": "8hKgABmk2dJl",
        "colab": {}
      },
      "source": [
        "\n",
        "import numpy as np\n",
        "import tensorflow as tf\n",
        "import matplotlib.pyplot as plt\n",
        "from IPython.display import clear_output\n",
        "import random\n",
        "from PIL import Image"
      ],
      "execution_count": 0,
      "outputs": []
    },
    {
      "cell_type": "code",
      "metadata": {
        "id": "Nqg5Ut4DzXHB",
        "colab_type": "code",
        "outputId": "7c68c9bb-a570-49e4-d7bd-9fa7f0ecbc75",
        "colab": {
          "base_uri": "https://localhost:8080/",
          "height": 354
        }
      },
      "source": [
        "import zipfile\n",
        "zip_ref = zipfile.ZipFile(\"/content/drive/My Drive/ML/comp.zip\", 'r')\n",
        "zip_ref.extractall(\"/tmp\")\n",
        "zip_ref.close()"
      ],
      "execution_count": 0,
      "outputs": [
        {
          "output_type": "error",
          "ename": "KeyboardInterrupt",
          "evalue": "ignored",
          "traceback": [
            "\u001b[0;31m---------------------------------------------------------------------------\u001b[0m",
            "\u001b[0;31mKeyboardInterrupt\u001b[0m                         Traceback (most recent call last)",
            "\u001b[0;32m<ipython-input-3-ef6d64b9202f>\u001b[0m in \u001b[0;36m<module>\u001b[0;34m()\u001b[0m\n\u001b[1;32m      1\u001b[0m \u001b[0;32mimport\u001b[0m \u001b[0mzipfile\u001b[0m\u001b[0;34m\u001b[0m\u001b[0;34m\u001b[0m\u001b[0m\n\u001b[1;32m      2\u001b[0m \u001b[0mzip_ref\u001b[0m \u001b[0;34m=\u001b[0m \u001b[0mzipfile\u001b[0m\u001b[0;34m.\u001b[0m\u001b[0mZipFile\u001b[0m\u001b[0;34m(\u001b[0m\u001b[0;34m\"/content/drive/My Drive/ML/comp.zip\"\u001b[0m\u001b[0;34m,\u001b[0m \u001b[0;34m'r'\u001b[0m\u001b[0;34m)\u001b[0m\u001b[0;34m\u001b[0m\u001b[0;34m\u001b[0m\u001b[0m\n\u001b[0;32m----> 3\u001b[0;31m \u001b[0mzip_ref\u001b[0m\u001b[0;34m.\u001b[0m\u001b[0mextractall\u001b[0m\u001b[0;34m(\u001b[0m\u001b[0;34m\"/tmp\"\u001b[0m\u001b[0;34m)\u001b[0m\u001b[0;34m\u001b[0m\u001b[0;34m\u001b[0m\u001b[0m\n\u001b[0m\u001b[1;32m      4\u001b[0m \u001b[0mzip_ref\u001b[0m\u001b[0;34m.\u001b[0m\u001b[0mclose\u001b[0m\u001b[0;34m(\u001b[0m\u001b[0;34m)\u001b[0m\u001b[0;34m\u001b[0m\u001b[0;34m\u001b[0m\u001b[0m\n",
            "\u001b[0;32m/usr/lib/python3.6/zipfile.py\u001b[0m in \u001b[0;36mextractall\u001b[0;34m(self, path, members, pwd)\u001b[0m\n\u001b[1;32m   1522\u001b[0m \u001b[0;34m\u001b[0m\u001b[0m\n\u001b[1;32m   1523\u001b[0m         \u001b[0;32mfor\u001b[0m \u001b[0mzipinfo\u001b[0m \u001b[0;32min\u001b[0m \u001b[0mmembers\u001b[0m\u001b[0;34m:\u001b[0m\u001b[0;34m\u001b[0m\u001b[0;34m\u001b[0m\u001b[0m\n\u001b[0;32m-> 1524\u001b[0;31m             \u001b[0mself\u001b[0m\u001b[0;34m.\u001b[0m\u001b[0m_extract_member\u001b[0m\u001b[0;34m(\u001b[0m\u001b[0mzipinfo\u001b[0m\u001b[0;34m,\u001b[0m \u001b[0mpath\u001b[0m\u001b[0;34m,\u001b[0m \u001b[0mpwd\u001b[0m\u001b[0;34m)\u001b[0m\u001b[0;34m\u001b[0m\u001b[0;34m\u001b[0m\u001b[0m\n\u001b[0m\u001b[1;32m   1525\u001b[0m \u001b[0;34m\u001b[0m\u001b[0m\n\u001b[1;32m   1526\u001b[0m     \u001b[0;34m@\u001b[0m\u001b[0mclassmethod\u001b[0m\u001b[0;34m\u001b[0m\u001b[0;34m\u001b[0m\u001b[0m\n",
            "\u001b[0;32m/usr/lib/python3.6/zipfile.py\u001b[0m in \u001b[0;36m_extract_member\u001b[0;34m(self, member, targetpath, pwd)\u001b[0m\n\u001b[1;32m   1572\u001b[0m         \u001b[0;32mif\u001b[0m \u001b[0mmember\u001b[0m\u001b[0;34m.\u001b[0m\u001b[0mis_dir\u001b[0m\u001b[0;34m(\u001b[0m\u001b[0;34m)\u001b[0m\u001b[0;34m:\u001b[0m\u001b[0;34m\u001b[0m\u001b[0;34m\u001b[0m\u001b[0m\n\u001b[1;32m   1573\u001b[0m             \u001b[0;32mif\u001b[0m \u001b[0;32mnot\u001b[0m \u001b[0mos\u001b[0m\u001b[0;34m.\u001b[0m\u001b[0mpath\u001b[0m\u001b[0;34m.\u001b[0m\u001b[0misdir\u001b[0m\u001b[0;34m(\u001b[0m\u001b[0mtargetpath\u001b[0m\u001b[0;34m)\u001b[0m\u001b[0;34m:\u001b[0m\u001b[0;34m\u001b[0m\u001b[0;34m\u001b[0m\u001b[0m\n\u001b[0;32m-> 1574\u001b[0;31m                 \u001b[0mos\u001b[0m\u001b[0;34m.\u001b[0m\u001b[0mmkdir\u001b[0m\u001b[0;34m(\u001b[0m\u001b[0mtargetpath\u001b[0m\u001b[0;34m)\u001b[0m\u001b[0;34m\u001b[0m\u001b[0;34m\u001b[0m\u001b[0m\n\u001b[0m\u001b[1;32m   1575\u001b[0m             \u001b[0;32mreturn\u001b[0m \u001b[0mtargetpath\u001b[0m\u001b[0;34m\u001b[0m\u001b[0;34m\u001b[0m\u001b[0m\n\u001b[1;32m   1576\u001b[0m \u001b[0;34m\u001b[0m\u001b[0m\n",
            "\u001b[0;31mKeyboardInterrupt\u001b[0m: "
          ]
        }
      ]
    },
    {
      "cell_type": "code",
      "metadata": {
        "colab_type": "code",
        "id": "0qUPex-520Xk",
        "outputId": "fc6f390e-e5b1-4c6c-dc4b-7c1e2c6118cd",
        "colab": {
          "base_uri": "https://localhost:8080/",
          "height": 34
        }
      },
      "source": [
        "a=[]\n",
        "import os\n",
        "a=os.listdir(\"/tmp/comp/cat\")\n",
        "count=0\n",
        "imagearr=[]\n",
        "name=[]\n",
        "for i in a:\n",
        "    clear_output(wait=True)\n",
        "    dir=\"/tmp/comp/cat/\"\n",
        "    dir=dir+i\n",
        "    b=os.listdir(dir)\n",
        "    for j in b:\n",
        "        name.append(i)\n",
        "        g=(dir+\"/\"+j)\n",
        "        img = Image.open(g)\n",
        "        l,b=img.size\n",
        "        area=l*b\n",
        "        if(area<=36*52):\n",
        "            img=img.resize((100,100))\n",
        "        img.thumbnail((52,36),Image.ANTIALIAS)\n",
        "        img=img.resize((52,36))\n",
        "        img = np.array(img)\n",
        "        img = img[:,:,:3]\n",
        "        imagearr.append(img)\n",
        "    if (count%100)==0:\n",
        "      print(count)\n",
        "    count=count+1\n",
        "# x=[]\n",
        "#  for i in imagearr:\n",
        "#      x.append(i.flatten(\"F\"))"
      ],
      "execution_count": 0,
      "outputs": [
        {
          "output_type": "stream",
          "text": [
            "5700\n"
          ],
          "name": "stdout"
        }
      ]
    },
    {
      "cell_type": "code",
      "metadata": {
        "id": "_87MC108QMP9",
        "colab_type": "code",
        "colab": {}
      },
      "source": [
        ""
      ],
      "execution_count": 0,
      "outputs": []
    },
    {
      "cell_type": "code",
      "metadata": {
        "id": "wEhDpfvZQDSV",
        "colab_type": "code",
        "outputId": "bd7240ad-9c08-406a-ceb9-5b408aec933c",
        "colab": {
          "base_uri": "https://localhost:8080/",
          "height": 34
        }
      },
      "source": [
        "np.shape(imagearr)"
      ],
      "execution_count": 0,
      "outputs": [
        {
          "output_type": "execute_result",
          "data": {
            "text/plain": [
              "(13233, 36, 52, 3)"
            ]
          },
          "metadata": {
            "tags": []
          },
          "execution_count": 41
        }
      ]
    },
    {
      "cell_type": "code",
      "metadata": {
        "id": "VLYhq7AbQM2l",
        "colab_type": "code",
        "outputId": "9d06b81d-a486-4a80-8a10-8f9d4cdfd34f",
        "colab": {
          "base_uri": "https://localhost:8080/",
          "height": 286
        }
      },
      "source": [
        "plt.imshow(imagearr[0])"
      ],
      "execution_count": 0,
      "outputs": [
        {
          "output_type": "execute_result",
          "data": {
            "text/plain": [
              "<matplotlib.image.AxesImage at 0x7fd924fd64e0>"
            ]
          },
          "metadata": {
            "tags": []
          },
          "execution_count": 42
        },
        {
          "output_type": "display_data",
          "data": {
            "image/png": "[encoded data removed]",
            "text/plain": [
              "<Figure size 432x288 with 1 Axes>"
            ]
          },
          "metadata": {
            "tags": []
          }
        }
      ]
    },
    {
      "cell_type": "code",
      "metadata": {
        "id": "Pbafk4WBBCZ5",
        "colab_type": "code",
        "outputId": "bbebf381-6eee-4df7-c3fe-73f7c2a8982a",
        "colab": {
          "base_uri": "https://localhost:8080/",
          "height": 34
        }
      },
      "source": [
        "#Run this cell to mount your Google Drive.\n",
        "from google.colab import drive\n",
        "drive.mount('/content/drive')"
      ],
      "execution_count": 0,
      "outputs": [
        {
          "output_type": "stream",
          "text": [
            "Drive already mounted at /content/drive; to attempt to forcibly remount, call drive.mount(\"/content/drive\", force_remount=True).\n"
          ],
          "name": "stdout"
        }
      ]
    },
    {
      "cell_type": "code",
      "metadata": {
        "id": "MHHsBQYDFtun",
        "colab_type": "code",
        "colab": {}
      },
      "source": [
        "def scale_range (input, min=0, max=1):\n",
        "    input += -(np.min(input))\n",
        "    input /= np.max(input) / (max - min)\n",
        "    input += min\n",
        "    return input"
      ],
      "execution_count": 0,
      "outputs": []
    },
    {
      "cell_type": "code",
      "metadata": {
        "id": "2GeIknPaRScv",
        "colab_type": "code",
        "colab": {}
      },
      "source": [
        "# aqua=[[1,2,3]]\n",
        "# aqua.append([4,5,6])\n",
        "# aqua=np.array(aqua)\n",
        "# aqua.flatten(\"C\")"
      ],
      "execution_count": 0,
      "outputs": []
    },
    {
      "cell_type": "code",
      "metadata": {
        "id": "FBjmRDD8y8uq",
        "colab_type": "code",
        "outputId": "addb826b-2e1a-4ad2-e6bb-4025987c7d5f",
        "colab": {
          "base_uri": "https://localhost:8080/",
          "height": 229
        }
      },
      "source": [
        "boom=[]\n",
        "for i in imagearr:\n",
        "    lol=(i.flatten('C'))\n",
        "    lol=lol.astype(float)\n",
        "    boom.append(scale_range(lol))\n",
        "imagearr=[]"
      ],
      "execution_count": 0,
      "outputs": [
        {
          "output_type": "error",
          "ename": "NameError",
          "evalue": "ignored",
          "traceback": [
            "\u001b[0;31m---------------------------------------------------------------------------\u001b[0m",
            "\u001b[0;31mNameError\u001b[0m                                 Traceback (most recent call last)",
            "\u001b[0;32m<ipython-input-4-7c5c1c24629f>\u001b[0m in \u001b[0;36m<module>\u001b[0;34m()\u001b[0m\n\u001b[1;32m      1\u001b[0m \u001b[0mboom\u001b[0m\u001b[0;34m=\u001b[0m\u001b[0;34m[\u001b[0m\u001b[0;34m]\u001b[0m\u001b[0;34m\u001b[0m\u001b[0;34m\u001b[0m\u001b[0m\n\u001b[0;32m----> 2\u001b[0;31m \u001b[0;32mfor\u001b[0m \u001b[0mi\u001b[0m \u001b[0;32min\u001b[0m \u001b[0mimagearr\u001b[0m\u001b[0;34m:\u001b[0m\u001b[0;34m\u001b[0m\u001b[0;34m\u001b[0m\u001b[0m\n\u001b[0m\u001b[1;32m      3\u001b[0m     \u001b[0mlol\u001b[0m\u001b[0;34m=\u001b[0m\u001b[0;34m(\u001b[0m\u001b[0mi\u001b[0m\u001b[0;34m.\u001b[0m\u001b[0mflatten\u001b[0m\u001b[0;34m(\u001b[0m\u001b[0;34m'C'\u001b[0m\u001b[0;34m)\u001b[0m\u001b[0;34m)\u001b[0m\u001b[0;34m\u001b[0m\u001b[0;34m\u001b[0m\u001b[0m\n\u001b[1;32m      4\u001b[0m     \u001b[0mlol\u001b[0m\u001b[0;34m=\u001b[0m\u001b[0mlol\u001b[0m\u001b[0;34m.\u001b[0m\u001b[0mastype\u001b[0m\u001b[0;34m(\u001b[0m\u001b[0mfloat\u001b[0m\u001b[0;34m)\u001b[0m\u001b[0;34m\u001b[0m\u001b[0;34m\u001b[0m\u001b[0m\n\u001b[1;32m      5\u001b[0m     \u001b[0mboom\u001b[0m\u001b[0;34m.\u001b[0m\u001b[0mappend\u001b[0m\u001b[0;34m(\u001b[0m\u001b[0mscale_range\u001b[0m\u001b[0;34m(\u001b[0m\u001b[0mlol\u001b[0m\u001b[0;34m)\u001b[0m\u001b[0;34m)\u001b[0m\u001b[0;34m\u001b[0m\u001b[0;34m\u001b[0m\u001b[0m\n",
            "\u001b[0;31mNameError\u001b[0m: name 'imagearr' is not defined"
          ]
        }
      ]
    },
    {
      "cell_type": "code",
      "metadata": {
        "id": "OK1hflwmTxZM",
        "colab_type": "code",
        "colab": {}
      },
      "source": [
        ""
      ],
      "execution_count": 0,
      "outputs": []
    },
    {
      "cell_type": "code",
      "metadata": {
        "id": "NEWBQollTJVi",
        "colab_type": "code",
        "colab": {}
      },
      "source": [
        "# for i in boom:\n",
        "#   clear_output(wait=True)\n",
        "#   i=i.reshape(72,72,3)\n",
        "#   plt.imshow(i)\n",
        "#   plt.show()"
      ],
      "execution_count": 0,
      "outputs": []
    },
    {
      "cell_type": "code",
      "metadata": {
        "colab_type": "code",
        "id": "K_PSUFufRod_",
        "colab": {}
      },
      "source": [
        "def give_data(batch_size):\n",
        "  x_batch=[]\n",
        "  y_batch=[]\n",
        "  same=0\n",
        "  good=0\n",
        "  diff=0\n",
        "  for i in range(0,batch_size):\n",
        "      rand1=random.randint(0,13200)\n",
        "      rand2=random.randint(0,13200)\n",
        "      #rand3=random.randint(0,13231)\n",
        "      z=[]\n",
        "      z.append(rand1-1)\n",
        "      z.append(rand1+1)\n",
        "      z.append(rand1)\n",
        "      z.append(rand2)\n",
        "      k=random.choice(z)\n",
        "      v=random.choice(z)\n",
        "      n=[]\n",
        "      n.append(boom[k])\n",
        "      n.append(boom[v])\n",
        "      n=np.array(n)\n",
        "      n=n.flatten('C')\n",
        "      n=n.flatten('F')\n",
        "      n=np.array(n)\n",
        "      x_batch.append(n)\n",
        "      if (name[v]==name[k]):\n",
        "          y_batch.append([0,1])\n",
        "      else:\n",
        "          y_batch.append([1,0])\n",
        "  return x_batch,y_batch"
      ],
      "execution_count": 0,
      "outputs": []
    },
    {
      "cell_type": "code",
      "metadata": {
        "colab_type": "code",
        "id": "5ZE6wy7v7mTr",
        "colab": {}
      },
      "source": [
        "def init_weights(shape):\n",
        "  init_random_dist=tf.truncated_normal(shape,stddev=0.1)\n",
        "  return tf.Variable(init_random_dist)"
      ],
      "execution_count": 0,
      "outputs": []
    },
    {
      "cell_type": "code",
      "metadata": {
        "id": "wKY0NzaNivhT",
        "colab_type": "code",
        "colab": {}
      },
      "source": [
        ""
      ],
      "execution_count": 0,
      "outputs": []
    },
    {
      "cell_type": "code",
      "metadata": {
        "colab_type": "code",
        "id": "KeU5Ms8d8C46",
        "colab": {}
      },
      "source": [
        "def init_bias(shape):\n",
        "  init_bias_vals=tf.constant(0.1,shape=shape)\n",
        "  return tf.Variable(init_bias_vals)"
      ],
      "execution_count": 0,
      "outputs": []
    },
    {
      "cell_type": "code",
      "metadata": {
        "colab_type": "code",
        "id": "UJ0G9vjQ8Uer",
        "colab": {}
      },
      "source": [
        "def conv2d(x,W):\n",
        "  #x=[batch,H,w,Channels]\n",
        "  #W=[filterH,filterW,channelsIN,channelsout]\n",
        "  return tf.nn.conv2d(x,W,strides=[1,1,1,1],padding='SAME')"
      ],
      "execution_count": 0,
      "outputs": []
    },
    {
      "cell_type": "code",
      "metadata": {
        "colab_type": "code",
        "id": "eWvSEEZV9Cse",
        "colab": {}
      },
      "source": [
        "def max_pool(x):\n",
        "  #x=[batch,H,w,Channels]\n",
        "  return tf.nn.max_pool(x,ksize=[1,2,2,1],strides=[1,2,2,1],padding=\"SAME\")"
      ],
      "execution_count": 0,
      "outputs": []
    },
    {
      "cell_type": "code",
      "metadata": {
        "colab_type": "code",
        "id": "DxuPWUa09g8y",
        "colab": {}
      },
      "source": [
        "def convolutional_layer(input_x,shape):\n",
        "  W=init_weights(shape)\n",
        "  b=init_bias([shape[3]])\n",
        "  return tf.nn.relu(conv2d(input_x,W) + b)"
      ],
      "execution_count": 0,
      "outputs": []
    },
    {
      "cell_type": "code",
      "metadata": {
        "colab_type": "code",
        "id": "3qTCoZol9-kC",
        "colab": {}
      },
      "source": [
        "def normal_full_layer(input_layer,size):\n",
        "  input_size=int(input_layer.get_shape()[1])\n",
        "  W=init_weights([input_size,size])\n",
        "  b=init_bias([size])\n",
        "  return tf.matmul(input_layer,W)+b"
      ],
      "execution_count": 0,
      "outputs": []
    },
    {
      "cell_type": "code",
      "metadata": {
        "id": "_qUNB-pmSxSM",
        "colab_type": "code",
        "outputId": "9d7619c7-f117-43f2-f5c4-993eae92fc66",
        "colab": {
          "base_uri": "https://localhost:8080/",
          "height": 34
        }
      },
      "source": [
        "72*56*3"
      ],
      "execution_count": 0,
      "outputs": [
        {
          "output_type": "execute_result",
          "data": {
            "text/plain": [
              "12096"
            ]
          },
          "metadata": {
            "tags": []
          },
          "execution_count": 13
        }
      ]
    },
    {
      "cell_type": "code",
      "metadata": {
        "colab_type": "code",
        "id": "6xUMtwf__YEE",
        "colab": {}
      },
      "source": [
        "x=tf.placeholder(tf.float32,shape=[None,11232])"
      ],
      "execution_count": 0,
      "outputs": []
    },
    {
      "cell_type": "code",
      "metadata": {
        "colab_type": "code",
        "id": "_VIZxLsV_lHD",
        "colab": {}
      },
      "source": [
        "y_true=tf.placeholder(tf.float32,shape=[None,2])"
      ],
      "execution_count": 0,
      "outputs": []
    },
    {
      "cell_type": "code",
      "metadata": {
        "colab_type": "code",
        "id": "r769OToy_rHa",
        "colab": {}
      },
      "source": [
        "x_image = tf.reshape(x,[-1,72,52,3])"
      ],
      "execution_count": 0,
      "outputs": []
    },
    {
      "cell_type": "code",
      "metadata": {
        "colab_type": "code",
        "id": "rLL-bBaJALRK",
        "colab": {}
      },
      "source": [
        "\n",
        "convo_1 = convolutional_layer(x_image,shape=[7,7,3,32])\n",
        "convo_1_pooling=max_pool(convo_1)"
      ],
      "execution_count": 0,
      "outputs": []
    },
    {
      "cell_type": "code",
      "metadata": {
        "colab_type": "code",
        "id": "VlWvbxscAWWK",
        "colab": {}
      },
      "source": [
        "convo_2=convolutional_layer(convo_1_pooling,shape=[5,5,32,64])\n",
        "convo_2_pooling=max_pool(convo_2)"
      ],
      "execution_count": 0,
      "outputs": []
    },
    {
      "cell_type": "code",
      "metadata": {
        "colab_type": "code",
        "id": "PNFYNGymAvZa",
        "colab": {}
      },
      "source": [
        "convo_3=convolutional_layer(convo_2_pooling,shape=[3,3,64,128])\n",
        "convo_3_pooling=max_pool(convo_3)"
      ],
      "execution_count": 0,
      "outputs": []
    },
    {
      "cell_type": "code",
      "metadata": {
        "id": "fOTNvTe7MowW",
        "colab_type": "code",
        "colab": {}
      },
      "source": [
        "convo_4=convolutional_layer(convo_3_pooling,shape=[3,3,128,128])\n",
        "convo_4_pooling=max_pool(convo_4)"
      ],
      "execution_count": 0,
      "outputs": []
    },
    {
      "cell_type": "code",
      "metadata": {
        "id": "afjPndSAOVTW",
        "colab_type": "code",
        "colab": {}
      },
      "source": [
        "convo_5=convolutional_layer(convo_4_pooling,shape=[2,2,128,256])\n",
        "convo_5_pooling=max_pool(convo_5)"
      ],
      "execution_count": 0,
      "outputs": []
    },
    {
      "cell_type": "code",
      "metadata": {
        "colab_type": "code",
        "id": "-KJ3nHDpBXR-",
        "colab": {}
      },
      "source": [
        "convo_5_flat =tf.reshape(convo_5_pooling,[-1,3*2*256])\n",
        "full_layer_one=tf.nn.relu(normal_full_layer(convo_5_flat,160))"
      ],
      "execution_count": 0,
      "outputs": []
    },
    {
      "cell_type": "code",
      "metadata": {
        "colab_type": "code",
        "id": "glO4zMrqEn-J",
        "outputId": "ab1c076b-da8d-4913-fd17-d4efcd1a915b",
        "colab": {
          "base_uri": "https://localhost:8080/",
          "height": 104
        }
      },
      "source": [
        "hold_prob1=tf.placeholder(tf.float32)\n",
        "full_one_droupout=tf.nn.dropout(full_layer_one,keep_prob=hold_prob1)"
      ],
      "execution_count": 0,
      "outputs": [
        {
          "output_type": "stream",
          "text": [
            "WARNING: Logging before flag parsing goes to stderr.\n",
            "W0711 11:44:03.876386 140033030719360 deprecation.py:506] From <ipython-input-23-166fc3bc9bce>:2: calling dropout (from tensorflow.python.ops.nn_ops) with keep_prob is deprecated and will be removed in a future version.\n",
            "Instructions for updating:\n",
            "Please use `rate` instead of `keep_prob`. Rate should be set to `rate = 1 - keep_prob`.\n"
          ],
          "name": "stderr"
        }
      ]
    },
    {
      "cell_type": "code",
      "metadata": {
        "colab_type": "code",
        "id": "EMqYwDzaFEk8",
        "colab": {}
      },
      "source": [
        "y_pred=normal_full_layer(full_one_droupout,2)"
      ],
      "execution_count": 0,
      "outputs": []
    },
    {
      "cell_type": "code",
      "metadata": {
        "colab_type": "code",
        "id": "KSk70_fZGfvt",
        "outputId": "ffb7cf6f-0bd0-4aaf-f543-0c59f4eb3e42",
        "colab": {
          "base_uri": "https://localhost:8080/",
          "height": 171
        }
      },
      "source": [
        "cross_entrophy= tf.reduce_mean(tf.nn.softmax_cross_entropy_with_logits(labels=y_true,logits=y_pred))"
      ],
      "execution_count": 0,
      "outputs": [
        {
          "output_type": "stream",
          "text": [
            "W0711 11:44:04.436798 140033030719360 deprecation.py:323] From <ipython-input-25-bd68ccb49d38>:1: softmax_cross_entropy_with_logits (from tensorflow.python.ops.nn_ops) is deprecated and will be removed in a future version.\n",
            "Instructions for updating:\n",
            "\n",
            "Future major versions of TensorFlow will allow gradients to flow\n",
            "into the labels input on backprop by default.\n",
            "\n",
            "See `tf.nn.softmax_cross_entropy_with_logits_v2`.\n",
            "\n"
          ],
          "name": "stderr"
        }
      ]
    },
    {
      "cell_type": "code",
      "metadata": {
        "colab_type": "code",
        "id": "S7cFyiSUGzDQ",
        "colab": {}
      },
      "source": [
        "optimizer=tf.train.GradientDescentOptimizer(learning_rate=0.001)\n",
        "train=optimizer.minimize(cross_entrophy)"
      ],
      "execution_count": 0,
      "outputs": []
    },
    {
      "cell_type": "code",
      "metadata": {
        "colab_type": "code",
        "id": "nBVcJ8Gh0f_S",
        "colab": {}
      },
      "source": [
        "init=tf.global_variables_initializer()"
      ],
      "execution_count": 0,
      "outputs": []
    },
    {
      "cell_type": "code",
      "metadata": {
        "id": "Qnyzp2Zw-RwI",
        "colab_type": "code",
        "colab": {}
      },
      "source": [
        "def scale_range (input, min=0, max=1):\n",
        "    input += -(np.min(input))\n",
        "    input /= np.max(input) / (max - min)\n",
        "    input += min\n",
        "    return input"
      ],
      "execution_count": 0,
      "outputs": []
    },
    {
      "cell_type": "code",
      "metadata": {
        "id": "sQ6aJ2A2aH8A",
        "colab_type": "code",
        "colab": {}
      },
      "source": [
        "saver = tf.train.Saver()"
      ],
      "execution_count": 0,
      "outputs": []
    },
    {
      "cell_type": "code",
      "metadata": {
        "colab_type": "code",
        "id": "HOxTRPKcHvBB",
        "outputId": "2bbf3216-ee51-419c-a18a-a60c28814998",
        "colab": {
          "base_uri": "https://localhost:8080/",
          "height": 185
        }
      },
      "source": [
        "steps=500000\n",
        "accu=[]\n",
        "icou=[]\n",
        "act=[]\n",
        "with tf.Session() as sess:\n",
        "  sess.run(init)\n",
        "  for i in range(steps):\n",
        "    batch_x,batch_y= give_data(10)\n",
        "    sess.run(train,feed_dict={x:batch_x,y_true:batch_y,hold_prob1:0.7})\n",
        "    if ((i%200)==0):\n",
        "        clear_output(wait=True)\n",
        "        x_test,y_test=give_data(500)\n",
        "        print(\"On step:{}\".format(i))\n",
        "        print(\"Accuracy:\")\n",
        "        matches=tf.equal(tf.argmax(y_pred,1),tf.argmax(y_true,1))\n",
        "        acc=tf.reduce_mean(tf.cast(matches,tf.float32))\n",
        "        quatl=sess.run(acc,feed_dict={x:x_test,y_true:y_test,hold_prob1:1.0})\n",
        "        accu.append(quatl)\n",
        "        a,b=give_data(1)\n",
        "        act.append((sum(accu)/(len(accu)+1)))\n",
        "        \n",
        "        print(act[-1])\n",
        "        print('\\n')\n",
        "        print(accu[-1])\n",
        "        \n",
        "        print(sess.run(cross_entrophy,feed_dict={x:a,y_true:b,hold_prob1:1.0}))\n",
        "        print(sess.run(y_pred,feed_dict={x:a,y_true:b,hold_prob1:1.0}))\n",
        "        print(b)\n",
        "        icou.append(i)\n",
        "        save_path = saver.save(sess, \"/content/drive/My Drive/ML\")\n",
        "        print(\"Model saved in path: %s\" % save_path)\n",
        "#         plt.plot(icou,accu,'r')\n",
        "#         plt.plot(icou,act,\"g\")\n",
        "#         plt.show()"
      ],
      "execution_count": 0,
      "outputs": [
        {
          "output_type": "stream",
          "text": [
            "On step:499800\n",
            "Accuracy:\n",
            "0.8368140745644377\n",
            "\n",
            "\n",
            "0.882\n",
            "0.013338146\n",
            "[[ 1.9094409 -2.4010096]]\n",
            "[[1, 0]]\n",
            "Model saved in path: /content/drive/My Drive/ML\n"
          ],
          "name": "stdout"
        }
      ]
    },
    {
      "cell_type": "code",
      "metadata": {
        "colab_type": "code",
        "id": "v0tTnt_qIQwA",
        "outputId": "21af9d18-55ab-4398-dcb6-30379d1c936d",
        "colab": {
          "base_uri": "https://localhost:8080/",
          "height": 67
        }
      },
      "source": [
        "with tf.Session() as sess:\n",
        "  # Restore variables from disk.\n",
        "  saver.restore(sess, \"/content/drive/My Drive/ML\")\n",
        "  print(\"Model restored.\")\n",
        "  clear_output(wait=True)\n",
        "  z=[]\n",
        "  z.append(boom[0])\n",
        "  z.append(boom[1])\n",
        "  z=np.array(z)\n",
        "  z=z.flatten('C')\n",
        "  z=z.flatten('F')\n",
        "  z=np.array(z).reshape(1,11232)\n",
        "  k=np.array([1,0]).reshape(1,2)\n",
        "  x_test,y_test=z,k\n",
        "  print(\"Accuracy:\")\n",
        "  matches=tf.equal(tf.argmax(y_pred,1),tf.argmax(y_true,1))\n",
        "  acc=tf.reduce_mean(tf.cast(matches,tf.float32))\n",
        "  print(sess.run(acc,feed_dict={x:x_test,y_true:y_test,hold_prob1:1.0}))\n",
        "  print(sess.run(y_pred,feed_dict={x:x_test,y_true:y_test,hold_prob1:1.0}))\n",
        "  \n",
        "  \n"
      ],
      "execution_count": 0,
      "outputs": [
        {
          "output_type": "stream",
          "text": [
            "Accuracy:\n",
            "0.0\n",
            "[[-0.559456   2.9316597]]\n"
          ],
          "name": "stdout"
        }
      ]
    },
    {
      "cell_type": "code",
      "metadata": {
        "id": "-Qwy7x95WgeM",
        "colab_type": "code",
        "colab": {}
      },
      "source": [
        "boom=[]\n",
        "imagearr=[]"
      ],
      "execution_count": 0,
      "outputs": []
    },
    {
      "cell_type": "code",
      "metadata": {
        "id": "5AzOZiX6y8v0",
        "colab_type": "code",
        "colab": {}
      },
      "source": [
        "\n",
        "\n",
        "img = Image.open('/content/drive/My Drive/ML/test /processed6.png')\n",
        "l,b=img.size\n",
        "area=l*b\n",
        "if(area<=36*52):\n",
        "    img=img.resize((100,100))\n",
        "img.thumbnail((52,36),Image.ANTIALIAS)\n",
        "img=img.resize((52,36))\n",
        "img = np.array(img)\n",
        "img = img[:,:,:3]\n",
        "imagearr.append(img)"
      ],
      "execution_count": 0,
      "outputs": []
    },
    {
      "cell_type": "code",
      "metadata": {
        "id": "MZFmI5zYh4Hr",
        "colab_type": "code",
        "colab": {}
      },
      "source": [
        "boom=[]\n",
        "for i in imagearr:\n",
        "    lol=(i.flatten('C'))\n",
        "    lol=lol.astype(float)\n",
        "    boom.append(scale_range(lol))\n",
        "imagearr=[]"
      ],
      "execution_count": 0,
      "outputs": []
    },
    {
      "cell_type": "code",
      "metadata": {
        "id": "SJYddbOTy8v2",
        "colab_type": "code",
        "outputId": "7101c178-dd78-4ecd-d2a4-e361be8424f8",
        "colab": {
          "base_uri": "https://localhost:8080/",
          "height": 286
        }
      },
      "source": [
        "\n",
        "plt.imshow(imagearr[2])"
      ],
      "execution_count": 0,
      "outputs": [
        {
          "output_type": "execute_result",
          "data": {
            "text/plain": [
              "<matplotlib.image.AxesImage at 0x7f4edc8635c0>"
            ]
          },
          "metadata": {
            "tags": []
          },
          "execution_count": 43
        },
        {
          "output_type": "display_data",
          "data": {
            "image/png": "[encoded data removed]",
            "text/plain": [
              "<Figure size 432x288 with 1 Axes>"
            ]
          },
          "metadata": {
            "tags": []
          }
        }
      ]
    },
    {
      "cell_type": "code",
      "metadata": {
        "id": "xHOf6Ptxy8v5",
        "colab_type": "code",
        "colab": {}
      },
      "source": [
        "sum(accu)"
      ],
      "execution_count": 0,
      "outputs": []
    },
    {
      "cell_type": "code",
      "metadata": {
        "id": "0i6yHpqpy8v9",
        "colab_type": "code",
        "colab": {}
      },
      "source": [
        "i"
      ],
      "execution_count": 0,
      "outputs": []
    },
    {
      "cell_type": "code",
      "metadata": {
        "id": "9n-OADa9aujm",
        "colab_type": "code",
        "colab": {}
      },
      "source": [
        ""
      ],
      "execution_count": 0,
      "outputs": []
    }
  ]
}